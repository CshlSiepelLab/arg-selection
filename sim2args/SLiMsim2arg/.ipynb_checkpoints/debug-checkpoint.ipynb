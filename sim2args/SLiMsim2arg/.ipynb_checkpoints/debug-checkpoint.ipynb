{
 "cells": [
  {
   "cell_type": "code",
   "execution_count": 1,
   "metadata": {},
   "outputs": [],
   "source": [
    "import sys, os\n",
    "sys.path.append(os.path.join(os.path.dirname(\"__file__\"), \"../..\")) # directory of module fea_util\n",
    "from contextlib import contextmanager\n",
    "\n",
    "import msprime, pyslim\n",
    "import numpy as np\n",
    "\n",
    "from feature_util import run_RELATE"
   ]
  },
  {
   "cell_type": "code",
   "execution_count": 28,
   "metadata": {},
   "outputs": [],
   "source": [
    "#parent_dir = os.getcwd() # directory where the job is submitted\n",
    "args = [\"slimSims2ts.py\",\n",
    "        \"/Volumes/mo/maiz/maize_scale_40.param\",\n",
    "        40,\n",
    "        's',\n",
    "        '/Volumes/mo/maiz/SLiM_trial_swp_meta.txt',\n",
    "        27,\n",
    "        50,\n",
    "        \"SLiM_trial_swp\",\n",
    "        \"SLiM_trial_swp\"]\n",
    "\n",
    "param_path = args[1]\n",
    "scale = int(args[2])\n",
    "mode = args[3]\n",
    "if mode == 'n':\n",
    "    no_sims = int(args[4])\n",
    "elif mode == 's':\n",
    "    metaF = args[4]\n",
    "# else:\n",
    "#     return helpMsg\n",
    "thr = int(args[5]) # should be 1-indexed\n",
    "tot_thr = int(args[6])\n",
    "inPref = args[7]\n",
    "outPref = args[8]"
   ]
  },
  {
   "cell_type": "code",
   "execution_count": 7,
   "metadata": {},
   "outputs": [],
   "source": [
    "with open(param_path, \"r\") as paramF:\n",
    "    lines = paramF.readlines()\n",
    "scaled_mu = float(lines[0].strip())\n",
    "scaled_rho = float(lines[1].strip())\n",
    "scaled_N0 = int(lines[-1].strip().split()[1])\n",
    "\n",
    "mu = scaled_mu/scale\n",
    "rho_cMpMb = scaled_rho/scale*100*1e6 # 1cM = 1e-2 crossover\n",
    "N0 = scaled_N0*scale"
   ]
  },
  {
   "cell_type": "code",
   "execution_count": 8,
   "metadata": {},
   "outputs": [
    {
     "name": "stdout",
     "output_type": "stream",
     "text": [
      "1.2e-06 2.79e-07 2501435\n",
      "3e-08 0.6975 100057400\n"
     ]
    }
   ],
   "source": [
    "print(scaled_mu, scaled_rho, scaled_N0)\n",
    "print(mu, rho_cMpMb, N0)"
   ]
  },
  {
   "cell_type": "code",
   "execution_count": 11,
   "metadata": {},
   "outputs": [
    {
     "name": "stderr",
     "output_type": "stream",
     "text": [
      "/Users/mo/Library/Python/3.7/lib/python/site-packages/ipykernel_launcher.py:2: VisibleDeprecationWarning: Reading unicode strings without specifying the encoding argument is deprecated. Set the encoding, use None for the system default.\n",
      "  \n"
     ]
    }
   ],
   "source": [
    "if mode == 's':\n",
    "    meta_data = np.genfromtxt(metaF, usecols=(1, 2, 3, 4), dtype=None)\n",
    "    # e.g. `%% 0.100992 2347 0.520421 SLiM_trial_swp/SLiM_trial_swp_4501`\n",
    "    no_sims = meta_data.shape[0]"
   ]
  },
  {
   "cell_type": "code",
   "execution_count": 22,
   "metadata": {},
   "outputs": [
    {
     "data": {
      "text/plain": [
       "(25939,)"
      ]
     },
     "execution_count": 22,
     "metadata": {},
     "output_type": "execute_result"
    }
   ],
   "source": [
    "meta_data.shape"
   ]
  },
  {
   "cell_type": "code",
   "execution_count": 44,
   "metadata": {},
   "outputs": [
    {
     "name": "stdout",
     "output_type": "stream",
     "text": [
      "Processing: [ 25382 25939 )\n"
     ]
    }
   ],
   "source": [
    "thr = 50\n",
    "tasks = no_sims//tot_thr\n",
    "a_idx = (thr-1)*tasks # inclusive\n",
    "if thr == tot_thr:\n",
    "    b_idx = no_sims # exclusive\n",
    "else:\n",
    "    b_idx = thr*tasks # exclusive\n",
    "\n",
    "print(\"Processing: [\", a_idx, b_idx, \")\", flush=True)"
   ]
  },
  {
   "cell_type": "code",
   "execution_count": 46,
   "metadata": {},
   "outputs": [],
   "source": [
    "wd = outPref+'/'+'RELATE_temp_'+str(thr)\n",
    "os.mkdir(wd, 0o755)"
   ]
  },
  {
   "cell_type": "code",
   "execution_count": 69,
   "metadata": {},
   "outputs": [],
   "source": [
    "r_idx = 9\n",
    "parent_dir = \"/Volumes/mo/maiz\""
   ]
  },
  {
   "cell_type": "code",
   "execution_count": 70,
   "metadata": {},
   "outputs": [],
   "source": [
    "ID = int(meta_data[r_idx][3].split(b'_')[-1]) # retrieve 1-based index from meta file\n",
    "sim_path = parent_dir+\"/\"+meta_data[r_idx][3].decode()+\"_samp.trees\""
   ]
  },
  {
   "cell_type": "code",
   "execution_count": 71,
   "metadata": {},
   "outputs": [
    {
     "name": "stdout",
     "output_type": "stream",
     "text": [
      "4510 /Volumes/mo/maiz/SLiM_trial_swp/SLiM_trial_swp_4510_samp.trees\n"
     ]
    }
   ],
   "source": [
    "print(ID, sim_path)"
   ]
  },
  {
   "cell_type": "code",
   "execution_count": 72,
   "metadata": {},
   "outputs": [
    {
     "data": {
      "text/plain": [
       "True"
      ]
     },
     "execution_count": 72,
     "metadata": {},
     "output_type": "execute_result"
    }
   ],
   "source": [
    "os.path.isfile(sim_path)"
   ]
  },
  {
   "cell_type": "code",
   "execution_count": 75,
   "metadata": {},
   "outputs": [],
   "source": [
    "def get_site_ppos(ts):\n",
    "    var_ppos_ls = []\n",
    "    prev_pos = 0\n",
    "    for site in ts.sites():\n",
    "        site_pos = int(site.position)\n",
    "        if site_pos <= prev_pos:\n",
    "            if prev_pos == 49999:\n",
    "                var_ppos_ls.append(-1) # flag indicating this site should be removed\n",
    "                continue\n",
    "            else:\n",
    "                site_pos = prev_pos + 1\n",
    "        var_ppos_ls.append(site_pos)\n",
    "        prev_pos = site_pos\n",
    "    return np.array(var_ppos_ls)\n",
    "\n",
    "def sim2ts(ts_mut, mu, rho_cMpMb, N0):\n",
    "\n",
    "    # ts_samp = pyslim.load(sim_path)\n",
    "    # ts_mut = msprime.mutate(ts_samp, rate=scaled_mu, keep=True) # random_seed=958,\n",
    "\n",
    "    ppos_ls = get_site_ppos(ts_mut)\n",
    "    GTM = ts_mut.genotype_matrix()\n",
    "    \n",
    "    mask = (ppos_ls != -1)\n",
    "    ppos_ls = ppos_ls[mask]\n",
    "    GTM = GTM[mask, :]\n",
    "\n",
    "    ts_inf, _ = run_RELATE(ppos_ls, GTM, str(2*N0), rho_cMpMb=rho_cMpMb, mut_rate=str(mu))\n",
    "\n",
    "    return ts_inf # inferred tree-seqs"
   ]
  },
  {
   "cell_type": "code",
   "execution_count": null,
   "metadata": {},
   "outputs": [],
   "source": [
    "print(\"Input:\", sim_path, flush=True)\n",
    "ts_samp = pyslim.load(sim_path)\n",
    "ts_tru = msprime.mutate(ts_samp, rate=scaled_mu, keep=True)\n",
    "ts_inf = sim2ts(ts_tru, mu, rho_cMpMb, N0)"
   ]
  },
  {
   "cell_type": "code",
   "execution_count": 78,
   "metadata": {},
   "outputs": [
    {
     "name": "stdout",
     "output_type": "stream",
     "text": [
      "/Volumes/mo/maiz/SLiM_trial_swp/SLiM_trial_swp_4510_inf.trees\n"
     ]
    }
   ],
   "source": [
    "print(parent_dir+\"/\"+outPref+\"/\"+outPref+\"_\"+str(ID)+\"_inf.trees\")"
   ]
  },
  {
   "cell_type": "code",
   "execution_count": 79,
   "metadata": {},
   "outputs": [
    {
     "name": "stdout",
     "output_type": "stream",
     "text": [
      "4510\n",
      "0.700361\n",
      "2464\n",
      "0.654686\n"
     ]
    }
   ],
   "source": [
    "print(ID)\n",
    "print(meta_data[r_idx][0])\n",
    "print(meta_data[r_idx][1])\n",
    "print(meta_data[r_idx][2])"
   ]
  },
  {
   "cell_type": "code",
   "execution_count": null,
   "metadata": {},
   "outputs": [],
   "source": []
  }
 ],
 "metadata": {
  "kernelspec": {
   "display_name": "Python 3",
   "language": "python",
   "name": "python3"
  },
  "language_info": {
   "codemirror_mode": {
    "name": "ipython",
    "version": 3
   },
   "file_extension": ".py",
   "mimetype": "text/x-python",
   "name": "python",
   "nbconvert_exporter": "python",
   "pygments_lexer": "ipython3",
   "version": "3.7.3"
  }
 },
 "nbformat": 4,
 "nbformat_minor": 2
}
