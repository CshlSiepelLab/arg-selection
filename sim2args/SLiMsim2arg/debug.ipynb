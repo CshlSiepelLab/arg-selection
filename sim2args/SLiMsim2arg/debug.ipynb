{
 "cells": [
  {
   "cell_type": "code",
   "execution_count": 1,
   "metadata": {},
   "outputs": [],
   "source": [
    "import sys, os\n",
    "sys.path.append(os.path.join(os.path.dirname(\"__file__\"), \"../..\")) # directory of module fea_util\n",
    "from contextlib import contextmanager\n",
    "\n",
    "import msprime, pyslim\n",
    "import numpy as np\n",
    "\n",
    "from feature_util import run_RELATE"
   ]
  },
  {
   "cell_type": "code",
   "execution_count": 2,
   "metadata": {},
   "outputs": [],
   "source": [
    "#parent_dir = os.getcwd() # directory where the job is submitted\n",
    "args = [\"slimSims2ts.py\",\n",
    "        \"/Volumes/mo/maiz/maize_scale_40.param\",\n",
    "        40,\n",
    "        's',\n",
    "        '/Volumes/mo/maiz/SLiM_trial_swp_meta.txt',\n",
    "        14,\n",
    "        50,\n",
    "        \"SLiM_trial_swp\",\n",
    "        \"SLiM_trial_swp\"]\n",
    "\n",
    "param_path = args[1]\n",
    "scale = int(args[2])\n",
    "mode = args[3]\n",
    "if mode == 'n':\n",
    "    no_sims = int(args[4])\n",
    "elif mode == 's':\n",
    "    metaF = args[4]\n",
    "# else:\n",
    "#     return helpMsg\n",
    "thr = int(args[5]) # should be 1-indexed\n",
    "tot_thr = int(args[6])\n",
    "inPref = args[7]\n",
    "outPref = args[8]"
   ]
  },
  {
   "cell_type": "code",
   "execution_count": 3,
   "metadata": {},
   "outputs": [],
   "source": [
    "with open(param_path, \"r\") as paramF:\n",
    "    lines = paramF.readlines()\n",
    "scaled_mu = float(lines[0].strip())\n",
    "scaled_rho = float(lines[1].strip())\n",
    "scaled_N0 = int(lines[-1].strip().split()[1])\n",
    "\n",
    "mu = scaled_mu/scale\n",
    "rho_cMpMb = scaled_rho/scale*100*1e6 # 1cM = 1e-2 crossover\n",
    "N0 = scaled_N0*scale"
   ]
  },
  {
   "cell_type": "code",
   "execution_count": 4,
   "metadata": {},
   "outputs": [
    {
     "name": "stdout",
     "output_type": "stream",
     "text": [
      "1.2e-06 2.79e-07 2501435\n",
      "3e-08 0.6975 100057400\n"
     ]
    }
   ],
   "source": [
    "print(scaled_mu, scaled_rho, scaled_N0)\n",
    "print(mu, rho_cMpMb, N0)"
   ]
  },
  {
   "cell_type": "code",
   "execution_count": 5,
   "metadata": {},
   "outputs": [
    {
     "name": "stderr",
     "output_type": "stream",
     "text": [
      "/Users/mo/anaconda3/lib/python3.7/site-packages/ipykernel_launcher.py:2: VisibleDeprecationWarning: Reading unicode strings without specifying the encoding argument is deprecated. Set the encoding, use None for the system default.\n",
      "  \n"
     ]
    }
   ],
   "source": [
    "if mode == 's':\n",
    "    meta_data = np.genfromtxt(metaF, usecols=(1, 2, 3, 4), dtype=None)\n",
    "    # e.g. `%% 0.100992 2347 0.520421 SLiM_trial_swp/SLiM_trial_swp_4501`\n",
    "    no_sims = meta_data.shape[0]"
   ]
  },
  {
   "cell_type": "code",
   "execution_count": 6,
   "metadata": {},
   "outputs": [
    {
     "data": {
      "text/plain": [
       "(45939,)"
      ]
     },
     "execution_count": 6,
     "metadata": {},
     "output_type": "execute_result"
    }
   ],
   "source": [
    "meta_data.shape"
   ]
  },
  {
   "cell_type": "code",
   "execution_count": 7,
   "metadata": {},
   "outputs": [
    {
     "name": "stdout",
     "output_type": "stream",
     "text": [
      "Processing: [ 11934 12852 )\n"
     ]
    }
   ],
   "source": [
    "#thr = 14\n",
    "tasks = no_sims//tot_thr\n",
    "a_idx = (thr-1)*tasks # inclusive\n",
    "if thr == tot_thr:\n",
    "    b_idx = no_sims # exclusive\n",
    "else:\n",
    "    b_idx = thr*tasks # exclusive\n",
    "\n",
    "print(\"Processing: [\", a_idx, b_idx, \")\", flush=True)"
   ]
  },
  {
   "cell_type": "code",
   "execution_count": null,
   "metadata": {},
   "outputs": [],
   "source": [
    "wd = outPref+'/'+'RELATE_temp_'+str(thr)\n",
    "os.mkdir(wd, 0o755)"
   ]
  },
  {
   "cell_type": "code",
   "execution_count": 8,
   "metadata": {},
   "outputs": [],
   "source": [
    "r_idx = 11934\n",
    "parent_dir = \"/Volumes/mo/maiz\""
   ]
  },
  {
   "cell_type": "code",
   "execution_count": 9,
   "metadata": {},
   "outputs": [],
   "source": [
    "ID = int(meta_data[r_idx][3].split(b'_')[-1]) # retrieve 1-based index from meta file\n",
    "sim_path = parent_dir+\"/\"+meta_data[r_idx][3].decode()+\"_samp.trees\""
   ]
  },
  {
   "cell_type": "code",
   "execution_count": 10,
   "metadata": {},
   "outputs": [
    {
     "name": "stdout",
     "output_type": "stream",
     "text": [
      "15459 /Volumes/mo/maiz/SLiM_trial_swp/SLiM_trial_swp_15459_samp.trees\n"
     ]
    }
   ],
   "source": [
    "print(ID, sim_path)"
   ]
  },
  {
   "cell_type": "code",
   "execution_count": 11,
   "metadata": {},
   "outputs": [
    {
     "data": {
      "text/plain": [
       "True"
      ]
     },
     "execution_count": 11,
     "metadata": {},
     "output_type": "execute_result"
    }
   ],
   "source": [
    "os.path.isfile(sim_path)"
   ]
  },
  {
   "cell_type": "code",
   "execution_count": 12,
   "metadata": {},
   "outputs": [],
   "source": [
    "def get_site_ppos(ts):\n",
    "    var_ppos_ls = []\n",
    "    prev_pos = 0\n",
    "    for site in ts.sites():\n",
    "        site_pos = int(site.position)\n",
    "        if site_pos <= prev_pos:\n",
    "            if prev_pos == 49999:\n",
    "                var_ppos_ls.append(-1) # flag indicating this site should be removed\n",
    "                continue\n",
    "            else:\n",
    "                site_pos = prev_pos + 1\n",
    "        var_ppos_ls.append(site_pos)\n",
    "        prev_pos = site_pos\n",
    "    return np.array(var_ppos_ls)\n",
    "\n",
    "def sim2ts(ts_mut, mu, rho_cMpMb, N0):\n",
    "\n",
    "    # ts_samp = pyslim.load(sim_path)\n",
    "    # ts_mut = msprime.mutate(ts_samp, rate=scaled_mu, keep=True) # random_seed=958,\n",
    "\n",
    "    ppos_ls = get_site_ppos(ts_mut)\n",
    "    GTM = ts_mut.genotype_matrix()\n",
    "    \n",
    "    mask = (ppos_ls != -1)\n",
    "    ppos_ls = ppos_ls[mask]\n",
    "    GTM = GTM[mask, :]\n",
    "\n",
    "    ts_inf, _ = run_RELATE(ppos_ls, GTM, str(2*N0), rho_cMpMb=rho_cMpMb, mut_rate=str(mu))\n",
    "\n",
    "    return ts_inf # inferred tree-seqs"
   ]
  },
  {
   "cell_type": "code",
   "execution_count": 13,
   "metadata": {},
   "outputs": [
    {
     "name": "stdout",
     "output_type": "stream",
     "text": [
      "Input: /Volumes/mo/maiz/SLiM_trial_swp/SLiM_trial_swp_15459_samp.trees\n",
      "Milestone: Running RELATE pipeline, try_1\n"
     ]
    },
    {
     "ename": "FileNotFoundError",
     "evalue": "[Errno 2] No such file or directory: '/sonas-hs/siepel/hpc_norepl/home/mo/relate_v1.0.17_x86_64_static/bin/Relate': '/sonas-hs/siepel/hpc_norepl/home/mo/relate_v1.0.17_x86_64_static/bin/Relate'",
     "output_type": "error",
     "traceback": [
      "\u001b[0;31m---------------------------------------------------------------------------\u001b[0m",
      "\u001b[0;31mFileNotFoundError\u001b[0m                         Traceback (most recent call last)",
      "\u001b[0;32m<ipython-input-13-e9df40c2c77c>\u001b[0m in \u001b[0;36m<module>\u001b[0;34m\u001b[0m\n\u001b[1;32m      2\u001b[0m \u001b[0mts_samp\u001b[0m \u001b[0;34m=\u001b[0m \u001b[0mpyslim\u001b[0m\u001b[0;34m.\u001b[0m\u001b[0mload\u001b[0m\u001b[0;34m(\u001b[0m\u001b[0msim_path\u001b[0m\u001b[0;34m)\u001b[0m\u001b[0;34m\u001b[0m\u001b[0;34m\u001b[0m\u001b[0m\n\u001b[1;32m      3\u001b[0m \u001b[0mts_tru\u001b[0m \u001b[0;34m=\u001b[0m \u001b[0mmsprime\u001b[0m\u001b[0;34m.\u001b[0m\u001b[0mmutate\u001b[0m\u001b[0;34m(\u001b[0m\u001b[0mts_samp\u001b[0m\u001b[0;34m,\u001b[0m \u001b[0mrate\u001b[0m\u001b[0;34m=\u001b[0m\u001b[0mscaled_mu\u001b[0m\u001b[0;34m,\u001b[0m \u001b[0mkeep\u001b[0m\u001b[0;34m=\u001b[0m\u001b[0;32mTrue\u001b[0m\u001b[0;34m)\u001b[0m\u001b[0;34m\u001b[0m\u001b[0;34m\u001b[0m\u001b[0m\n\u001b[0;32m----> 4\u001b[0;31m \u001b[0mts_inf\u001b[0m \u001b[0;34m=\u001b[0m \u001b[0msim2ts\u001b[0m\u001b[0;34m(\u001b[0m\u001b[0mts_tru\u001b[0m\u001b[0;34m,\u001b[0m \u001b[0mmu\u001b[0m\u001b[0;34m,\u001b[0m \u001b[0mrho_cMpMb\u001b[0m\u001b[0;34m,\u001b[0m \u001b[0mN0\u001b[0m\u001b[0;34m)\u001b[0m\u001b[0;34m\u001b[0m\u001b[0;34m\u001b[0m\u001b[0m\n\u001b[0m",
      "\u001b[0;32m<ipython-input-12-88f7c0aa6216>\u001b[0m in \u001b[0;36msim2ts\u001b[0;34m(ts_mut, mu, rho_cMpMb, N0)\u001b[0m\n\u001b[1;32m     26\u001b[0m     \u001b[0mGTM\u001b[0m \u001b[0;34m=\u001b[0m \u001b[0mGTM\u001b[0m\u001b[0;34m[\u001b[0m\u001b[0mmask\u001b[0m\u001b[0;34m,\u001b[0m \u001b[0;34m:\u001b[0m\u001b[0;34m]\u001b[0m\u001b[0;34m\u001b[0m\u001b[0;34m\u001b[0m\u001b[0m\n\u001b[1;32m     27\u001b[0m \u001b[0;34m\u001b[0m\u001b[0m\n\u001b[0;32m---> 28\u001b[0;31m     \u001b[0mts_inf\u001b[0m\u001b[0;34m,\u001b[0m \u001b[0m_\u001b[0m \u001b[0;34m=\u001b[0m \u001b[0mrun_RELATE\u001b[0m\u001b[0;34m(\u001b[0m\u001b[0mppos_ls\u001b[0m\u001b[0;34m,\u001b[0m \u001b[0mGTM\u001b[0m\u001b[0;34m,\u001b[0m \u001b[0mstr\u001b[0m\u001b[0;34m(\u001b[0m\u001b[0;36m2\u001b[0m\u001b[0;34m*\u001b[0m\u001b[0mN0\u001b[0m\u001b[0;34m)\u001b[0m\u001b[0;34m,\u001b[0m \u001b[0mrho_cMpMb\u001b[0m\u001b[0;34m=\u001b[0m\u001b[0mrho_cMpMb\u001b[0m\u001b[0;34m,\u001b[0m \u001b[0mmut_rate\u001b[0m\u001b[0;34m=\u001b[0m\u001b[0mstr\u001b[0m\u001b[0;34m(\u001b[0m\u001b[0mmu\u001b[0m\u001b[0;34m)\u001b[0m\u001b[0;34m)\u001b[0m\u001b[0;34m\u001b[0m\u001b[0;34m\u001b[0m\u001b[0m\n\u001b[0m\u001b[1;32m     29\u001b[0m \u001b[0;34m\u001b[0m\u001b[0m\n\u001b[1;32m     30\u001b[0m     \u001b[0;32mreturn\u001b[0m \u001b[0mts_inf\u001b[0m \u001b[0;31m# inferred tree-seqs\u001b[0m\u001b[0;34m\u001b[0m\u001b[0;34m\u001b[0m\u001b[0m\n",
      "\u001b[0;32m/Volumes/mo/arg-selection/feature_util.py\u001b[0m in \u001b[0;36mrun_RELATE\u001b[0;34m(pp, gtm, Ne, var_ppos, rho_cMpMb, mut_rate)\u001b[0m\n\u001b[1;32m     96\u001b[0m         \u001b[0mloop_cnt\u001b[0m \u001b[0;34m+=\u001b[0m \u001b[0;36m1\u001b[0m\u001b[0;34m\u001b[0m\u001b[0;34m\u001b[0m\u001b[0m\n\u001b[1;32m     97\u001b[0m         \u001b[0mprint\u001b[0m\u001b[0;34m(\u001b[0m\u001b[0;34m\"Milestone: Running RELATE pipeline, try_\"\u001b[0m\u001b[0;34m,\u001b[0m \u001b[0mloop_cnt\u001b[0m\u001b[0;34m,\u001b[0m \u001b[0msep\u001b[0m\u001b[0;34m=\u001b[0m\u001b[0;34m''\u001b[0m\u001b[0;34m)\u001b[0m\u001b[0;34m\u001b[0m\u001b[0;34m\u001b[0m\u001b[0m\n\u001b[0;32m---> 98\u001b[0;31m         \u001b[0mrelate_proc\u001b[0m \u001b[0;34m=\u001b[0m \u001b[0msubprocess\u001b[0m\u001b[0;34m.\u001b[0m\u001b[0mrun\u001b[0m\u001b[0;34m(\u001b[0m\u001b[0mrelate_cmd\u001b[0m\u001b[0;34m)\u001b[0m\u001b[0;34m\u001b[0m\u001b[0;34m\u001b[0m\u001b[0m\n\u001b[0m\u001b[1;32m     99\u001b[0m         \u001b[0;32mif\u001b[0m \u001b[0mrelate_proc\u001b[0m\u001b[0;34m.\u001b[0m\u001b[0mreturncode\u001b[0m \u001b[0;34m!=\u001b[0m \u001b[0;36m0\u001b[0m\u001b[0;34m:\u001b[0m \u001b[0;32mcontinue\u001b[0m\u001b[0;34m\u001b[0m\u001b[0;34m\u001b[0m\u001b[0m\n\u001b[1;32m    100\u001b[0m         \u001b[0;31m#relate_proc.check_returncode()\u001b[0m\u001b[0;34m\u001b[0m\u001b[0;34m\u001b[0m\u001b[0;34m\u001b[0m\u001b[0m\n",
      "\u001b[0;32m~/anaconda3/lib/python3.7/subprocess.py\u001b[0m in \u001b[0;36mrun\u001b[0;34m(input, capture_output, timeout, check, *popenargs, **kwargs)\u001b[0m\n\u001b[1;32m    470\u001b[0m         \u001b[0mkwargs\u001b[0m\u001b[0;34m[\u001b[0m\u001b[0;34m'stderr'\u001b[0m\u001b[0;34m]\u001b[0m \u001b[0;34m=\u001b[0m \u001b[0mPIPE\u001b[0m\u001b[0;34m\u001b[0m\u001b[0;34m\u001b[0m\u001b[0m\n\u001b[1;32m    471\u001b[0m \u001b[0;34m\u001b[0m\u001b[0m\n\u001b[0;32m--> 472\u001b[0;31m     \u001b[0;32mwith\u001b[0m \u001b[0mPopen\u001b[0m\u001b[0;34m(\u001b[0m\u001b[0;34m*\u001b[0m\u001b[0mpopenargs\u001b[0m\u001b[0;34m,\u001b[0m \u001b[0;34m**\u001b[0m\u001b[0mkwargs\u001b[0m\u001b[0;34m)\u001b[0m \u001b[0;32mas\u001b[0m \u001b[0mprocess\u001b[0m\u001b[0;34m:\u001b[0m\u001b[0;34m\u001b[0m\u001b[0;34m\u001b[0m\u001b[0m\n\u001b[0m\u001b[1;32m    473\u001b[0m         \u001b[0;32mtry\u001b[0m\u001b[0;34m:\u001b[0m\u001b[0;34m\u001b[0m\u001b[0;34m\u001b[0m\u001b[0m\n\u001b[1;32m    474\u001b[0m             \u001b[0mstdout\u001b[0m\u001b[0;34m,\u001b[0m \u001b[0mstderr\u001b[0m \u001b[0;34m=\u001b[0m \u001b[0mprocess\u001b[0m\u001b[0;34m.\u001b[0m\u001b[0mcommunicate\u001b[0m\u001b[0;34m(\u001b[0m\u001b[0minput\u001b[0m\u001b[0;34m,\u001b[0m \u001b[0mtimeout\u001b[0m\u001b[0;34m=\u001b[0m\u001b[0mtimeout\u001b[0m\u001b[0;34m)\u001b[0m\u001b[0;34m\u001b[0m\u001b[0;34m\u001b[0m\u001b[0m\n",
      "\u001b[0;32m~/anaconda3/lib/python3.7/subprocess.py\u001b[0m in \u001b[0;36m__init__\u001b[0;34m(self, args, bufsize, executable, stdin, stdout, stderr, preexec_fn, close_fds, shell, cwd, env, universal_newlines, startupinfo, creationflags, restore_signals, start_new_session, pass_fds, encoding, errors, text)\u001b[0m\n\u001b[1;32m    773\u001b[0m                                 \u001b[0mc2pread\u001b[0m\u001b[0;34m,\u001b[0m \u001b[0mc2pwrite\u001b[0m\u001b[0;34m,\u001b[0m\u001b[0;34m\u001b[0m\u001b[0;34m\u001b[0m\u001b[0m\n\u001b[1;32m    774\u001b[0m                                 \u001b[0merrread\u001b[0m\u001b[0;34m,\u001b[0m \u001b[0merrwrite\u001b[0m\u001b[0;34m,\u001b[0m\u001b[0;34m\u001b[0m\u001b[0;34m\u001b[0m\u001b[0m\n\u001b[0;32m--> 775\u001b[0;31m                                 restore_signals, start_new_session)\n\u001b[0m\u001b[1;32m    776\u001b[0m         \u001b[0;32mexcept\u001b[0m\u001b[0;34m:\u001b[0m\u001b[0;34m\u001b[0m\u001b[0;34m\u001b[0m\u001b[0m\n\u001b[1;32m    777\u001b[0m             \u001b[0;31m# Cleanup if the child failed starting.\u001b[0m\u001b[0;34m\u001b[0m\u001b[0;34m\u001b[0m\u001b[0;34m\u001b[0m\u001b[0m\n",
      "\u001b[0;32m~/anaconda3/lib/python3.7/subprocess.py\u001b[0m in \u001b[0;36m_execute_child\u001b[0;34m(self, args, executable, preexec_fn, close_fds, pass_fds, cwd, env, startupinfo, creationflags, shell, p2cread, p2cwrite, c2pread, c2pwrite, errread, errwrite, restore_signals, start_new_session)\u001b[0m\n\u001b[1;32m   1520\u001b[0m                         \u001b[0;32mif\u001b[0m \u001b[0merrno_num\u001b[0m \u001b[0;34m==\u001b[0m \u001b[0merrno\u001b[0m\u001b[0;34m.\u001b[0m\u001b[0mENOENT\u001b[0m\u001b[0;34m:\u001b[0m\u001b[0;34m\u001b[0m\u001b[0;34m\u001b[0m\u001b[0m\n\u001b[1;32m   1521\u001b[0m                             \u001b[0merr_msg\u001b[0m \u001b[0;34m+=\u001b[0m \u001b[0;34m': '\u001b[0m \u001b[0;34m+\u001b[0m \u001b[0mrepr\u001b[0m\u001b[0;34m(\u001b[0m\u001b[0merr_filename\u001b[0m\u001b[0;34m)\u001b[0m\u001b[0;34m\u001b[0m\u001b[0;34m\u001b[0m\u001b[0m\n\u001b[0;32m-> 1522\u001b[0;31m                     \u001b[0;32mraise\u001b[0m \u001b[0mchild_exception_type\u001b[0m\u001b[0;34m(\u001b[0m\u001b[0merrno_num\u001b[0m\u001b[0;34m,\u001b[0m \u001b[0merr_msg\u001b[0m\u001b[0;34m,\u001b[0m \u001b[0merr_filename\u001b[0m\u001b[0;34m)\u001b[0m\u001b[0;34m\u001b[0m\u001b[0;34m\u001b[0m\u001b[0m\n\u001b[0m\u001b[1;32m   1523\u001b[0m                 \u001b[0;32mraise\u001b[0m \u001b[0mchild_exception_type\u001b[0m\u001b[0;34m(\u001b[0m\u001b[0merr_msg\u001b[0m\u001b[0;34m)\u001b[0m\u001b[0;34m\u001b[0m\u001b[0;34m\u001b[0m\u001b[0m\n\u001b[1;32m   1524\u001b[0m \u001b[0;34m\u001b[0m\u001b[0m\n",
      "\u001b[0;31mFileNotFoundError\u001b[0m: [Errno 2] No such file or directory: '/sonas-hs/siepel/hpc_norepl/home/mo/relate_v1.0.17_x86_64_static/bin/Relate': '/sonas-hs/siepel/hpc_norepl/home/mo/relate_v1.0.17_x86_64_static/bin/Relate'"
     ]
    }
   ],
   "source": [
    "print(\"Input:\", sim_path, flush=True)\n",
    "ts_samp = pyslim.load(sim_path)\n",
    "ts_tru = msprime.mutate(ts_samp, rate=scaled_mu, keep=True)\n",
    "ts_inf = sim2ts(ts_tru, mu, rho_cMpMb, N0)"
   ]
  },
  {
   "cell_type": "code",
   "execution_count": 14,
   "metadata": {},
   "outputs": [
    {
     "name": "stdout",
     "output_type": "stream",
     "text": [
      "/Volumes/mo/maiz/SLiM_trial_swp/SLiM_trial_swp_15459_inf.trees\n"
     ]
    }
   ],
   "source": [
    "print(parent_dir+\"/\"+outPref+\"/\"+outPref+\"_\"+str(ID)+\"_inf.trees\")"
   ]
  },
  {
   "cell_type": "code",
   "execution_count": 15,
   "metadata": {},
   "outputs": [
    {
     "name": "stdout",
     "output_type": "stream",
     "text": [
      "15459\n",
      "0.817875\n",
      "2478\n",
      "0.255279\n"
     ]
    }
   ],
   "source": [
    "print(ID)\n",
    "print(meta_data[r_idx][0])\n",
    "print(meta_data[r_idx][1])\n",
    "print(meta_data[r_idx][2])"
   ]
  },
  {
   "cell_type": "code",
   "execution_count": 18,
   "metadata": {},
   "outputs": [],
   "source": [
    "ts_tru.dump(\"test_tru.trees\")"
   ]
  },
  {
   "cell_type": "code",
   "execution_count": null,
   "metadata": {},
   "outputs": [],
   "source": []
  }
 ],
 "metadata": {
  "kernelspec": {
   "display_name": "Python 3",
   "language": "python",
   "name": "python3"
  },
  "language_info": {
   "codemirror_mode": {
    "name": "ipython",
    "version": 3
   },
   "file_extension": ".py",
   "mimetype": "text/x-python",
   "name": "python",
   "nbconvert_exporter": "python",
   "pygments_lexer": "ipython3",
   "version": "3.7.4"
  }
 },
 "nbformat": 4,
 "nbformat_minor": 2
}
