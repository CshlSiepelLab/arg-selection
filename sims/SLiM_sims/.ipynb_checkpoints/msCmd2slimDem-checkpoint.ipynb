{
 "cells": [
  {
   "cell_type": "code",
   "execution_count": 1,
   "metadata": {},
   "outputs": [],
   "source": [
    "import matplotlib.pyplot as plt\n",
    "import numpy as np"
   ]
  },
  {
   "cell_type": "code",
   "execution_count": 2,
   "metadata": {},
   "outputs": [],
   "source": [
    "## INPUT ##\n",
    "\n",
    "ms_cmd = \"./ms 20 100 -t 120068.91955982734 -r 27899.061854409614 10000 -p 4 -eN 1.7346370798e-07 1.0 -eN 8.01653753135e-07 0.0008962320493712909 -eN 1.9631724918e-06 0.0004067588423180988 -eN 3.6460892761e-06 0.0013344148301248928 -eN 6.08446384525e-06 0.0036398062219619477 -eN 9.6173931125e-06 0.005205685373102609 -eN 1.1940308992999999e-05 0.0056877347538072795 -eN 1.47362865135e-05 0.005685812690513007 -eN 1.8101936854e-05 0.005357255424120209 -eN 2.2153110145e-05 0.004869386514186823 -eN 2.702947617e-05 0.004343204153097223 -eN 3.28991883535e-05 0.003844942881346934 -eN 3.99646304605e-05 0.0034036175351557234 -eN 4.84692460075e-05 0.0030266705914845987 -eN 5.87063665255e-05 0.0027103974694213614 -eN 7.1028706107e-05 0.0024471479739199675 -eN 8.5861520515e-05 0.002228520665568713 -eN 0.000103714600295 0.0020467366315367816 -eN 0.000125205590715 0.0018950531185080853 -eN 0.000151074067015 0.0017678830319484272 -eN 0.00018221201690000002 0.0016607112591100787 -eN 0.00021969299046499998 0.0015698842644952123 -eN 0.000264808745815 0.0014924914431123776 -eN 0.000319114223235 0.001426207050080056 -eN 0.00038448168076500003 0.0013691404805155308 -eN 0.00046316565689 0.0013198237815652064 -eN 0.0005578770946350001 0.0012770715775269872 -eN 0.000671881618455 0.0012399857071605637 -eN 0.00080910863824 0.0012078940116894608 -eN 0.0009742904361 0.0011802664210302557 -eN 0.00117311791025 0.001147839329644356 -eN 0.00170053166755 0.0011148285970524851 -eN 0.00246469278715 0.0010912241395123357 -eN 0.0035718985527 0.0010738548818618444 -eN 0.0051761188680499995 0.0010660612227918259\"\n",
    "mu = 3e-8"
   ]
  },
  {
   "cell_type": "code",
   "execution_count": 3,
   "metadata": {},
   "outputs": [],
   "source": [
    "cmd_ls = ms_cmd.split()"
   ]
  },
  {
   "cell_type": "code",
   "execution_count": 4,
   "metadata": {},
   "outputs": [
    {
     "name": "stdout",
     "output_type": "stream",
     "text": [
      "Size of locus: 10000 bp\n"
     ]
    }
   ],
   "source": [
    "## PARSE PARAMETERS ##\n",
    "size_loc = int(cmd_ls[7])\n",
    "print(\"Size of locus:\", size_loc, \"bp\")"
   ]
  },
  {
   "cell_type": "code",
   "execution_count": 5,
   "metadata": {},
   "outputs": [
    {
     "name": "stdout",
     "output_type": "stream",
     "text": [
      "Current N_e: 100057433\n"
     ]
    }
   ],
   "source": [
    "N_0 = round(float(cmd_ls[4])/(4*mu*size_loc))\n",
    "print(\"Current N_e:\", N_0)"
   ]
  },
  {
   "cell_type": "code",
   "execution_count": 6,
   "metadata": {},
   "outputs": [
    {
     "name": "stdout",
     "output_type": "stream",
     "text": [
      "Recomb rate: 6.970761948226296e-09\n"
     ]
    }
   ],
   "source": [
    "#rho = float(cmd_ls[6])/(4*N_0*size_loc)\n",
    "rho = mu*float(cmd_ls[6])/float(cmd_ls[4])\n",
    "print(\"Recomb rate:\", rho)"
   ]
  },
  {
   "cell_type": "code",
   "execution_count": 7,
   "metadata": {},
   "outputs": [],
   "source": [
    "## PAST-WARD DEMOGRAPHY ##\n",
    "gen_pw = []\n",
    "pop_size_pw = []\n",
    "\n",
    "for i in range(cmd_ls.index(\"-eN\"), len(cmd_ls), 3):\n",
    "    gen_pw.append(int(float(cmd_ls[i+1])*4*N_0))\n",
    "    pop_size_pw.append(int(float(cmd_ls[i+2])*N_0))\n",
    "    \n",
    "gen_pw = np.array(gen_pw)\n",
    "pop_size_pw = np.array(pop_size_pw)"
   ]
  },
  {
   "cell_type": "code",
   "execution_count": null,
   "metadata": {},
   "outputs": [],
   "source": [
    "#for i in range(len(gen_pw)): print(gen_pw[i], pop_size_pw[i]) "
   ]
  },
  {
   "cell_type": "code",
   "execution_count": 8,
   "metadata": {},
   "outputs": [],
   "source": [
    "## CONVERSION TO FORWARD DEMOGRAPHY ##\n",
    "max_gen_bp = 2.5e4"
   ]
  },
  {
   "cell_type": "code",
   "execution_count": 9,
   "metadata": {},
   "outputs": [],
   "source": [
    "mask = gen_pw < max_gen_bp"
   ]
  },
  {
   "cell_type": "code",
   "execution_count": 10,
   "metadata": {},
   "outputs": [],
   "source": [
    "gen = gen_pw[mask]\n",
    "pop = pop_size_pw[mask]"
   ]
  },
  {
   "cell_type": "code",
   "execution_count": 11,
   "metadata": {},
   "outputs": [],
   "source": [
    "gen = np.flip(max_gen_bp - gen)\n",
    "gen = np.concatenate(([0], gen[:-1], [max_gen_bp]))"
   ]
  },
  {
   "cell_type": "code",
   "execution_count": 12,
   "metadata": {},
   "outputs": [],
   "source": [
    "pop = np.concatenate((np.flip(pop), [pop[0]]))"
   ]
  },
  {
   "cell_type": "code",
   "execution_count": 13,
   "metadata": {},
   "outputs": [
    {
     "name": "stdout",
     "output_type": "stream",
     "text": [
      "0.0 271195\n",
      "1504.0 302840\n",
      "5602.0 340557\n",
      "9005.0 384715\n",
      "11833.0 434569\n",
      "14182.0 487218\n",
      "16134.0 536033\n",
      "17756.0 568907\n",
      "19103.0 569100\n",
      "20222.0 520867\n",
      "21151.0 364189\n",
      "22565.0 133518\n",
      "23541.0 40699\n",
      "24215.0 89674\n",
      "24680.0 100057433\n",
      "25000.0 100057433\n"
     ]
    }
   ],
   "source": [
    "for i in range(len(gen)): print(gen[i], pop[i]) "
   ]
  },
  {
   "cell_type": "code",
   "execution_count": 14,
   "metadata": {},
   "outputs": [],
   "source": [
    "## SCALING ##\n",
    "scaling_factor = 10"
   ]
  },
  {
   "cell_type": "code",
   "execution_count": 15,
   "metadata": {},
   "outputs": [],
   "source": [
    "scaled_mu = mu*scaling_factor\n",
    "scaled_rho = rho*scaling_factor\n",
    "scaled_gen = (gen/scaling_factor).astype(int)\n",
    "scaled_pop = (pop/scaling_factor).astype(int)"
   ]
  },
  {
   "cell_type": "code",
   "execution_count": 16,
   "metadata": {},
   "outputs": [
    {
     "data": {
      "image/png": "[encoded data removed]",
      "text/plain": [
       "<Figure size 1440x720 with 1 Axes>"
      ]
     },
     "metadata": {
      "needs_background": "light"
     },
     "output_type": "display_data"
    }
   ],
   "source": [
    "## Visualization ##\n",
    "plt.figure(figsize=(20,10))\n",
    "plt.step(gen_pw, pop_size_pw, where='post', lw=5, alpha=0.7)\n",
    "plt.step(np.flip(max_gen_bp-gen), np.flip(pop), where='pre', lw=5, color='g', alpha=0.7)\n",
    "plt.step(np.flip(max_gen_bp/scaling_factor-scaled_gen), np.flip(scaled_pop), where='pre', lw=5, color='y', alpha=0.7)\n",
    "plt.yscale(\"log\")\n",
    "plt.xscale(\"log\")"
   ]
  },
  {
   "cell_type": "code",
   "execution_count": 17,
   "metadata": {},
   "outputs": [],
   "source": [
    "## save scaled demography to .param file ##\n",
    "slim_param_f = \"maize\"\n",
    "prec = 2\n",
    "with open(slim_param_f+\"_scale_\"+str(scaling_factor)+\"_genBP_\"+str(max_gen_bp)+\".param\", \"w\") as outF:\n",
    "    print(np.format_float_scientific(scaled_mu, precision=prec), file=outF)\n",
    "    print(np.format_float_scientific(scaled_rho, precision=prec), file=outF)\n",
    "    for i in range(len(scaled_gen)):\n",
    "        print(scaled_gen[i], scaled_pop[i], file=outF)"
   ]
  },
  {
   "cell_type": "markdown",
   "metadata": {},
   "source": [
    "__Format of `.param` file__\n",
    "\n",
    "```\n",
    "<mut_rate>\n",
    "<recomb_rate>\n",
    "<gen_1> <Ne_1>\n",
    "<gen_2> <Ne_2>\n",
    "<gen_3> <Ne_3>\n",
    "...\n",
    "```"
   ]
  }
 ],
 "metadata": {
  "kernelspec": {
   "display_name": "Python 3",
   "language": "python",
   "name": "python3"
  },
  "language_info": {
   "codemirror_mode": {
    "name": "ipython",
    "version": 3
   },
   "file_extension": ".py",
   "mimetype": "text/x-python",
   "name": "python",
   "nbconvert_exporter": "python",
   "pygments_lexer": "ipython3",
   "version": "3.7.3"
  }
 },
 "nbformat": 4,
 "nbformat_minor": 2
}
